{
 "cells": [
  {
   "cell_type": "markdown",
   "id": "2ba100b5",
   "metadata": {},
   "source": [
    "# Code Python à compléter"
   ]
  },
  {
   "cell_type": "code",
   "execution_count": 7,
   "id": "e8ad5ca1",
   "metadata": {},
   "outputs": [
    {
     "name": "stdout",
     "output_type": "stream",
     "text": [
      "Valeur du discriminant :  3.240408673345148e-07\n",
      "Les solutions de l'équation sont : h1 =  -0.00032433934973248433 et h2 =  0.0002449065262600561\n"
     ]
    }
   ],
   "source": [
    "from numpy import log10\n",
    "\n",
    "#Ecrire les valeurs des variables ci-dessous : \n",
    "Ka = # A COMPLETER\n",
    "c  = # A COMPLETER\n",
    "\n",
    "# Résolvons l'équation Axh**2 + Bxh +C = 0\n",
    "#Ecrire les expressions des variables ci-dessous : \n",
    "A = # A COMPLETER\n",
    "B = # A COMPLETER\n",
    "C = # A COMPLETER\n",
    "\n",
    "# Ecrire l'expression du discriminant ci-dessous :\n",
    "delta = # A COMPLETER\n",
    "print(\"Valeur du discriminant : \", delta)\n",
    "\n",
    "if delta >0 :\n",
    "    # Calcul des deux solutions\n",
    "    h1 =     # A COMPLETER\n",
    "    h2 =     # A COMPLETER\n",
    "    print(\"Les solutions de l'équation sont : h1 = \", h1, \"et h2 = \", h2)\n",
    "elif delta == 0:\n",
    "    h =                   # A COMPLETER\n",
    "    print(\"la solution est : h = \", h)\n",
    "else :\n",
    "    print(\"Il n'y a pas de solution réelle car le discriminant est strictement négatif\")"
   ]
  }
 ],
 "metadata": {
  "kernelspec": {
   "display_name": "Python 3 (ipykernel)",
   "language": "python",
   "name": "python3"
  },
  "language_info": {
   "codemirror_mode": {
    "name": "ipython",
    "version": 3
   },
   "file_extension": ".py",
   "mimetype": "text/x-python",
   "name": "python",
   "nbconvert_exporter": "python",
   "pygments_lexer": "ipython3",
   "version": "3.9.12"
  }
 },
 "nbformat": 4,
 "nbformat_minor": 5
}
