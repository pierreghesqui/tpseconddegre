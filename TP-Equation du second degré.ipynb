{
 "cells": [
  {
   "cell_type": "markdown",
   "id": "2ba100b5",
   "metadata": {},
   "source": [
    "# Code Python à compléter"
   ]
  },
  {
   "cell_type": "code",
   "execution_count": 7,
   "id": "e8ad5ca1",
   "metadata": {},
   "outputs": [
    {
     "name": "stdout",
     "output_type": "stream",
     "text": [
      "Valeur du discriminant :  3.240408673345148e-07\n",
      "Les solutions de l'équation sont : h1 =  -0.00032433934973248433 et h2 =  0.0002449065262600561\n"
     ]
    }
   ],
   "source": [
    "from numpy import log10\n",
    "\n",
    "#Ecrire les valeurs des variables ci-dessous : \n",
    "Ka = 10**-4.1 # A COMPLETER\n",
    "c  = 0.01     # A COMPLETER\n",
    "\n",
    "# Résolvons l'équation Axh**2 + Bxh +C = 0\n",
    "#Ecrire les expressions des variables ci-dessous : \n",
    "A = 1         # A COMPLETER\n",
    "B = Ka        # A COMPLETER\n",
    "C = -Ka*c     # A COMPLETER\n",
    "\n",
    "# Ecrire l'expression du discriminant ci-dessous :\n",
    "delta = B**2 - 4*A*C     # A COMPLETER\n",
    "print(\"Valeur du discriminant : \", delta)\n",
    "\n",
    "if delta >0 :\n",
    "    # Calcul des deux solutions\n",
    "    h1 = (-B-delta**0.5)/(2*A)    # A COMPLETER\n",
    "    h2 = (-B+delta**0.5)/(2*A)    # A COMPLETER\n",
    "    print(\"Les solutions de l'équation sont : h1 = \", h1, \"et h2 = \", h2)\n",
    "elif delta == 0:\n",
    "    h = -B/(2*A)                  # A COMPLETER\n",
    "    print(\"la solution est : h = \", h)\n",
    "else :\n",
    "    print(\"Il n'y a pas de solution réelle car le discriminant est strictement négatif\")"
   ]
  },
  {
   "cell_type": "code",
   "execution_count": null,
   "id": "79b28494",
   "metadata": {},
   "outputs": [],
   "source": []
  }
 ],
 "metadata": {
  "kernelspec": {
   "display_name": "Python 3 (ipykernel)",
   "language": "python",
   "name": "python3"
  },
  "language_info": {
   "codemirror_mode": {
    "name": "ipython",
    "version": 3
   },
   "file_extension": ".py",
   "mimetype": "text/x-python",
   "name": "python",
   "nbconvert_exporter": "python",
   "pygments_lexer": "ipython3",
   "version": "3.9.12"
  }
 },
 "nbformat": 4,
 "nbformat_minor": 5
}
